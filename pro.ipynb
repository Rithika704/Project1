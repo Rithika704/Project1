{
 "cells": [
  {
   "cell_type": "code",
   "execution_count": null,
   "id": "73346060",
   "metadata": {},
   "outputs": [],
   "source": [
    "import pandas as pd\n",
    "import mysql.connector\n",
    "from datetime import datetime\n",
    "\n",
    "# Step 1: Load Data\n",
    "file_path = r\"C:\\Users\\rithi\\OneDrive\\Documents\\visual studio\\rithika - traffic_stops.csv\"\n",
    "df = pd.read_csv(file_path)\n"
   ]
  },
  {
   "cell_type": "code",
   "execution_count": null,
   "id": "0a920079",
   "metadata": {},
   "outputs": [],
   "source": [
    "conn = mysql.connector.connect(\n",
    "    host=\"localhost\",\n",
    "    user=\"root\",\n",
    "    password=\"yourpassword\",\n",
    "    database=\"yourdb\"\n",
    ")\n",
    "cursor = conn.cursor()"
   ]
  },
  {
   "cell_type": "code",
   "execution_count": null,
   "id": "bfd37b5c",
   "metadata": {},
   "outputs": [],
   "source": [
    "# Step 2: Data Cleaning\n",
    "\n",
    "# Drop columns with all missing values\n",
    "df.dropna(axis=1, how='all', inplace=True)\n",
    "\n",
    "# Fill NaNs with suitable values\n",
    "df.fillna({\n",
    "    'driver_age': df['driver_age'].median(),\n",
    "    'search_type': 'None',\n",
    "    'stop_duration': 'Unknown',\n",
    "    'violation': 'Unknown',\n",
    "    'stop_outcome': 'Unknown',\n",
    "}, inplace=True)\n",
    "\n",
    "# Convert date & time to timestamp\n",
    "#df['timestamp'] = pd.to_datetime(df['stop_date'] + ' ' + df['stop_time'])\n"
   ]
  },
  {
   "cell_type": "code",
   "execution_count": null,
   "id": "ded46c9b",
   "metadata": {},
   "outputs": [],
   "source": [
    "import pymysql\n",
    "\n",
    "# Connect to MySQL\n",
    "conn = pymysql.connect(\n",
    "    host=\"localhost\",\n",
    "    user=\"root\",\n",
    "    password=\"1234\",\n",
    ")\n",
    "\n",
    "cursor = conn.cursor()\n",
    "cursor.execute(\"create database securecheck\")\n",
    "\n"
   ]
  },
  {
   "cell_type": "code",
   "execution_count": null,
   "id": "c3ca2059",
   "metadata": {},
   "outputs": [],
   "source": [
    "cursor.execute(\"USE securecheck;\")\n",
    "\n",
    "cursor.execute(\"\"\"\n",
    "CREATE TABLE IF NOT EXISTS police_logs (\n",
    "    id INT AUTO_INCREMENT PRIMARY KEY,\n",
    "    stop_date DATE,\n",
    "    stop_time TIME,\n",
    "    county_name VARCHAR(100),\n",
    "    driver_gender VARCHAR(10),\n",
    "    driver_age INT,\n",
    "    driver_race VARCHAR(50),\n",
    "    violation VARCHAR(100),\n",
    "    search_conducted BOOLEAN,\n",
    "    search_type VARCHAR(100),\n",
    "    stop_outcome VARCHAR(100),\n",
    "    drugs_related_stop BOOLEAN,\n",
    "    stop_duration VARCHAR(50),\n",
    "    vehicle_number VARCHAR(50),\n",
    "    timestamp DATETIME\n",
    ")\n",
    "\"\"\")\n"
   ]
  },
  {
   "cell_type": "code",
   "execution_count": null,
   "id": "6c3f2a12",
   "metadata": {},
   "outputs": [],
   "source": [
    "# ✅ Iterate over DataFrame rows and insert\n",
    "for index, row in df.iterrows():\n",
    "    cursor.execute(\"\"\"\n",
    "        INSERT INTO police_logs (\n",
    "            stop_date, stop_time, county_name, driver_gender, driver_age, driver_race,\n",
    "            violation, search_conducted, search_type, stop_outcome, drugs_related_stop,\n",
    "            stop_duration, vehicle_number, timestamp\n",
    "        )\n",
    "        VALUES (%s, %s, %s, %s, %s, %s, %s, %s, %s, %s, %s, %s, %s, %s)\n",
    "    \"\"\", (\n",
    "        row['stop_date'],\n",
    "        row['stop_time'],\n",
    "        row['county_name'],\n",
    "        row['driver_gender'],\n",
    "        int(row['driver_age']),\n",
    "        row['driver_race'],\n",
    "        row['violation'],\n",
    "        bool(row['search_conducted']),\n",
    "        row['search_type'],\n",
    "        row['stop_outcome'],\n",
    "        bool(row['drugs_related_stop']),\n",
    "        row['stop_duration'],\n",
    "        row.get('vehicle_number', None),  # safely get vehicle_number if it exists\n",
    "        row['timestamp']\n",
    "    ))\n",
    "\n",
    "# ✅ Commit all inserts and close\n",
    "conn.commit()\n",
    "cursor.close()\n",
    "conn.close()\n",
    "\n",
    "print(\"✅ All rows successfully inserted into police_logs table!\")"
   ]
  }
 ],
 "metadata": {
  "kernelspec": {
   "display_name": "Python 3",
   "language": "python",
   "name": "python3"
  },
  "language_info": {
   "codemirror_mode": {
    "name": "ipython",
    "version": 3
   },
   "file_extension": ".py",
   "mimetype": "text/x-python",
   "name": "python",
   "nbconvert_exporter": "python",
   "pygments_lexer": "ipython3",
   "version": "3.13.3"
  }
 },
 "nbformat": 4,
 "nbformat_minor": 5
}
